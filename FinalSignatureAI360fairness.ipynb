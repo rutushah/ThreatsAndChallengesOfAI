{
  "nbformat": 4,
  "nbformat_minor": 0,
  "metadata": {
    "colab": {
      "provenance": []
    },
    "kernelspec": {
      "name": "python3",
      "display_name": "Python 3"
    },
    "language_info": {
      "name": "python"
    }
  },
  "cells": [
    {
      "cell_type": "code",
      "execution_count": 1,
      "metadata": {
        "colab": {
          "base_uri": "https://localhost:8080/"
        },
        "id": "nPj6-Ym11sZx",
        "outputId": "170e702d-2102-4281-c0db-14ebf2692fb7"
      },
      "outputs": [
        {
          "output_type": "stream",
          "name": "stdout",
          "text": [
            "Collecting aif360\n",
            "  Downloading aif360-0.6.1-py3-none-any.whl.metadata (5.0 kB)\n",
            "Requirement already satisfied: scikit-learn in /usr/local/lib/python3.11/dist-packages (1.6.1)\n",
            "Requirement already satisfied: pandas in /usr/local/lib/python3.11/dist-packages (2.2.2)\n",
            "Requirement already satisfied: matplotlib in /usr/local/lib/python3.11/dist-packages (3.10.0)\n",
            "Requirement already satisfied: numpy>=1.16 in /usr/local/lib/python3.11/dist-packages (from aif360) (2.0.2)\n",
            "Requirement already satisfied: scipy>=1.2.0 in /usr/local/lib/python3.11/dist-packages (from aif360) (1.15.3)\n",
            "Requirement already satisfied: joblib>=1.2.0 in /usr/local/lib/python3.11/dist-packages (from scikit-learn) (1.5.1)\n",
            "Requirement already satisfied: threadpoolctl>=3.1.0 in /usr/local/lib/python3.11/dist-packages (from scikit-learn) (3.6.0)\n",
            "Requirement already satisfied: python-dateutil>=2.8.2 in /usr/local/lib/python3.11/dist-packages (from pandas) (2.9.0.post0)\n",
            "Requirement already satisfied: pytz>=2020.1 in /usr/local/lib/python3.11/dist-packages (from pandas) (2025.2)\n",
            "Requirement already satisfied: tzdata>=2022.7 in /usr/local/lib/python3.11/dist-packages (from pandas) (2025.2)\n",
            "Requirement already satisfied: contourpy>=1.0.1 in /usr/local/lib/python3.11/dist-packages (from matplotlib) (1.3.2)\n",
            "Requirement already satisfied: cycler>=0.10 in /usr/local/lib/python3.11/dist-packages (from matplotlib) (0.12.1)\n",
            "Requirement already satisfied: fonttools>=4.22.0 in /usr/local/lib/python3.11/dist-packages (from matplotlib) (4.58.4)\n",
            "Requirement already satisfied: kiwisolver>=1.3.1 in /usr/local/lib/python3.11/dist-packages (from matplotlib) (1.4.8)\n",
            "Requirement already satisfied: packaging>=20.0 in /usr/local/lib/python3.11/dist-packages (from matplotlib) (24.2)\n",
            "Requirement already satisfied: pillow>=8 in /usr/local/lib/python3.11/dist-packages (from matplotlib) (11.2.1)\n",
            "Requirement already satisfied: pyparsing>=2.3.1 in /usr/local/lib/python3.11/dist-packages (from matplotlib) (3.2.3)\n",
            "Requirement already satisfied: six>=1.5 in /usr/local/lib/python3.11/dist-packages (from python-dateutil>=2.8.2->pandas) (1.17.0)\n",
            "Downloading aif360-0.6.1-py3-none-any.whl (259 kB)\n",
            "\u001b[2K   \u001b[90m━━━━━━━━━━━━━━━━━━━━━━━━━━━━━━━━━━━━━━━━\u001b[0m \u001b[32m259.7/259.7 kB\u001b[0m \u001b[31m5.2 MB/s\u001b[0m eta \u001b[36m0:00:00\u001b[0m\n",
            "\u001b[?25hInstalling collected packages: aif360\n",
            "Successfully installed aif360-0.6.1\n"
          ]
        }
      ],
      "source": [
        "#step 1: Installing the required libraries\n",
        "pip install aif360 scikit-learn pandas matplotlib"
      ]
    },
    {
      "cell_type": "code",
      "source": [
        "# step 2 : loading the dataset\n",
        "!mkdir -p data/raw/german/\n",
        "!wget -O data/raw/german/german.data https://archive.ics.uci.edu/ml/machine-learning-databases/statlog/german/german.data\n",
        "!wget -O data/raw/german/german.doc https://archive.ics.uci.edu/ml/machine-learning-databases/statlog/german/german.doc"
      ],
      "metadata": {
        "colab": {
          "base_uri": "https://localhost:8080/"
        },
        "id": "r22fePTA1zrd",
        "outputId": "8a99b525-0f94-4b4a-c512-24c4405ee0b4"
      },
      "execution_count": 3,
      "outputs": [
        {
          "output_type": "stream",
          "name": "stdout",
          "text": [
            "--2025-06-25 20:48:52--  https://archive.ics.uci.edu/ml/machine-learning-databases/statlog/german/german.data\n",
            "Resolving archive.ics.uci.edu (archive.ics.uci.edu)... 128.195.10.252\n",
            "Connecting to archive.ics.uci.edu (archive.ics.uci.edu)|128.195.10.252|:443... connected.\n",
            "HTTP request sent, awaiting response... 200 OK\n",
            "Length: unspecified\n",
            "Saving to: ‘data/raw/german/german.data’\n",
            "\n",
            "\r          data/raw/     [<=>                 ]       0  --.-KB/s               \rdata/raw/german/ger     [ <=>                ]  77.92K  --.-KB/s    in 0.03s   \n",
            "\n",
            "2025-06-25 20:48:52 (2.99 MB/s) - ‘data/raw/german/german.data’ saved [79793]\n",
            "\n",
            "--2025-06-25 20:48:52--  https://archive.ics.uci.edu/ml/machine-learning-databases/statlog/german/german.doc\n",
            "Resolving archive.ics.uci.edu (archive.ics.uci.edu)... 128.195.10.252\n",
            "Connecting to archive.ics.uci.edu (archive.ics.uci.edu)|128.195.10.252|:443... connected.\n",
            "HTTP request sent, awaiting response... 200 OK\n",
            "Length: unspecified\n",
            "Saving to: ‘data/raw/german/german.doc’\n",
            "\n",
            "data/raw/german/ger     [ <=>                ]   4.57K  --.-KB/s    in 0s      \n",
            "\n",
            "2025-06-25 20:48:52 (54.3 MB/s) - ‘data/raw/german/german.doc’ saved [4679]\n",
            "\n"
          ]
        }
      ]
    },
    {
      "cell_type": "code",
      "source": [
        "# Step 3: Prepare Dataset\n",
        "import pandas as pd\n",
        "from aif360.datasets import StructuredDataset\n",
        "\n",
        "columns = ['status', 'duration', 'credit_history', 'purpose', 'credit_amount', 'savings', 'employment',\n",
        "           'installment_commitment', 'personal_status', 'other_parties', 'residence_since', 'property_magnitude',\n",
        "           'age', 'other_payment_plans', 'housing', 'existing_credits', 'job', 'num_dependents',\n",
        "           'own_telephone', 'foreign_worker', 'class']\n",
        "\n",
        "df = pd.read_csv(\"data/raw/german/german.data\", sep=' ', header=None, names=columns)\n",
        "df['class'] = df['class'].map({1: 1, 2: 0})  # 1=favorable\n",
        "df['age_binary'] = (df['age'] >= 25).astype(int)\n",
        "df_encoded = pd.get_dummies(df.drop(columns=['age']), drop_first=True)\n",
        "df_encoded['age_binary'] = df['age_binary']\n",
        "df_encoded['class'] = df['class']\n",
        "\n",
        "dataset_orig = StructuredDataset(\n",
        "    df=df_encoded,\n",
        "    label_names=['class'],\n",
        "    protected_attribute_names=['age_binary']\n",
        ")\n"
      ],
      "metadata": {
        "id": "VTPufzWP27Db"
      },
      "execution_count": 5,
      "outputs": []
    },
    {
      "cell_type": "code",
      "source": [
        "#Step 4: converting structured dataset to binary\n",
        "from aif360.datasets import BinaryLabelDataset\n",
        "\n",
        "# Convert to BinaryLabelDataset\n",
        "dataset_orig = dataset_orig.convert_to_dataframe()[0]\n",
        "dataset_orig = BinaryLabelDataset(df=dataset_orig,\n",
        "                                  label_names=['class'],\n",
        "                                  protected_attribute_names=['age_binary'])\n"
      ],
      "metadata": {
        "id": "whBo67Lu3BBf"
      },
      "execution_count": 7,
      "outputs": []
    },
    {
      "cell_type": "code",
      "source": [
        "# Step 5: Check Bias Metrics\n",
        "from aif360.metrics import BinaryLabelDatasetMetric\n",
        "\n",
        "metric = BinaryLabelDatasetMetric(dataset_orig,\n",
        "                                  privileged_groups=[{'age_binary': 1}],\n",
        "                                  unprivileged_groups=[{'age_binary': 0}])\n",
        "\n",
        "print(\"Statistical parity difference:\", metric.statistical_parity_difference())\n",
        "print(\"Disparate impact:\", metric.disparate_impact())\n"
      ],
      "metadata": {
        "colab": {
          "base_uri": "https://localhost:8080/"
        },
        "id": "NPAi_CIH3QC2",
        "outputId": "ce02c86d-c403-4ac3-e510-bd2c295b3814"
      },
      "execution_count": 8,
      "outputs": [
        {
          "output_type": "stream",
          "name": "stdout",
          "text": [
            "Statistical parity difference: -0.12854990969960323\n",
            "Disparate impact: 0.8212484098784929\n"
          ]
        }
      ]
    },
    {
      "cell_type": "code",
      "source": [
        "# Step 6: Bias Mitigation (Reweighing)\n",
        "from aif360.algorithms.preprocessing import Reweighing\n",
        "\n",
        "RW = Reweighing(unprivileged_groups=[{'age_binary': 0}],\n",
        "                privileged_groups=[{'age_binary': 1}])\n",
        "dataset_transf = RW.fit_transform(dataset_orig)\n",
        "\n",
        "metric_transf = BinaryLabelDatasetMetric(dataset_transf,\n",
        "                                         privileged_groups=[{'age_binary': 1}],\n",
        "                                         unprivileged_groups=[{'age_binary': 0}])\n",
        "\n",
        "print(\"After Reweighing - Statistical parity difference:\", metric_transf.statistical_parity_difference())\n",
        "print(\"After Reweighing - Disparate impact:\", metric_transf.disparate_impact())\n"
      ],
      "metadata": {
        "colab": {
          "base_uri": "https://localhost:8080/"
        },
        "id": "L5wepFOn3bu7",
        "outputId": "65f7dea0-7cf3-4349-fcbb-f36679fddf79"
      },
      "execution_count": 9,
      "outputs": [
        {
          "output_type": "stream",
          "name": "stdout",
          "text": [
            "After Reweighing - Statistical parity difference: 1.1102230246251565e-16\n",
            "After Reweighing - Disparate impact: 1.0000000000000002\n"
          ]
        }
      ]
    }
  ]
}